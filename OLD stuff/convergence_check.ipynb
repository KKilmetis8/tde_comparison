{
 "cells": [
  {
   "cell_type": "code",
   "execution_count": 1,
   "metadata": {},
   "outputs": [],
   "source": [
    "# Vanilla Imports\n",
    "import numpy as np\n",
    "import matplotlib.pyplot as plt\n",
    "from scipy.stats import gmean\n",
    "import src.Luminosity.red_tree as red\n",
    "# Custom Imports\n",
    "plt.rcParams['text.usetex'] = True\n",
    "plt.rcParams['figure.dpi'] = 300\n",
    "plt.rcParams['figure.figsize'] = [5 , 4]\n",
    "Rsol_to_cm = 6.957e10 # [cm]\n",
    "\n",
    "num_array = np.arange(2000, 9000, 1000)\n",
    "snap = 844\n",
    "m = 6"
   ]
  },
  {
   "cell_type": "code",
   "execution_count": 1,
   "metadata": {},
   "outputs": [
    {
     "ename": "AttributeError",
     "evalue": "'float' object has no attribute 'unit'",
     "output_type": "error",
     "traceback": [
      "\u001b[0;31m---------------------------------------------------------------------------\u001b[0m",
      "\u001b[0;31mAttributeError\u001b[0m                            Traceback (most recent call last)",
      "\u001b[1;32m/Users/paolamartire/tde_comparison/convergence_check.ipynb Cell 2\u001b[0m line \u001b[0;36m2\n\u001b[1;32m      <a href='vscode-notebook-cell:/Users/paolamartire/tde_comparison/convergence_check.ipynb#W1sZmlsZQ%3D%3D?line=0'>1</a>\u001b[0m a \u001b[39m=\u001b[39m \u001b[39m7.206036362474614\u001b[39m\n\u001b[0;32m----> <a href='vscode-notebook-cell:/Users/paolamartire/tde_comparison/convergence_check.ipynb#W1sZmlsZQ%3D%3D?line=1'>2</a>\u001b[0m \u001b[39mprint\u001b[39m(a\u001b[39m.\u001b[39;49munit)\n\u001b[1;32m      <a href='vscode-notebook-cell:/Users/paolamartire/tde_comparison/convergence_check.ipynb#W1sZmlsZQ%3D%3D?line=2'>3</a>\u001b[0m \u001b[39m1\u001b[39m\u001b[39m/\u001b[39mnp\u001b[39m.\u001b[39mtanh(a)\n",
      "\u001b[0;31mAttributeError\u001b[0m: 'float' object has no attribute 'unit'"
     ]
    }
   ],
   "source": [
    "a = 7.206036362474614\n",
    "print(a.unit)\n",
    "1/np.tanh(a)"
   ]
  },
  {
   "cell_type": "code",
   "execution_count": null,
   "metadata": {},
   "outputs": [],
   "source": [
    "lum = np.zeros(len(num_array))\n",
    "rays_photo_mean = np.zeros(len(num_array))\n",
    "for i,num in enumerate(num_array):\n",
    "    print('num ', num)\n",
    "    lum[i], rays_photo = red.doer_of_thing(snap, m, num) \n",
    "    rays_photo_mean[i] = gmean(rays_photo)"
   ]
  },
  {
   "cell_type": "code",
   "execution_count": null,
   "metadata": {},
   "outputs": [],
   "source": [
    "with open('data/red/convergence_m'+ str(m) + '.txt', 'a') as file:\n",
    "    file.write('# num\\n') \n",
    "    file.write(' '.join(map(str, num_array)) + '\\n')\n",
    "    file.write('# Lum \\n') \n",
    "    file.write(' '.join(map(str, lum)) + '\\n')\n",
    "    file.write('# gmean R_{ph} \\n') \n",
    "    file.write(' '.join(map(str, rays_photo_mean)) + '\\n')\n",
    "    file.close() "
   ]
  },
  {
   "cell_type": "code",
   "execution_count": null,
   "metadata": {},
   "outputs": [],
   "source": [
    "data = np.loadtxt('data/red/convergence_m6.txt')\n",
    "num_plot = data[0]\n",
    "lum_plot = data[1]\n",
    "photo_plot = data[2]/Rsol_to_cm"
   ]
  },
  {
   "cell_type": "code",
   "execution_count": null,
   "metadata": {},
   "outputs": [],
   "source": [
    "img, ax = plt.subplots(figsize = (10,8))\n",
    "fig = ax.scatter(num_plot, lum_plot, c = photo_plot, vmin = 54, vmax = 57)\n",
    "cbar = img.colorbar(fig)\n",
    "cbar.set_label(r'$\\bar{R}_{ph} [R_\\odot]$', fontsize = 15)\n",
    "ax.set_ylabel('$\\log_{10}$ L [erg/s]', fontsize = 15)\n",
    "ax.set_xlabel('Num cells', fontsize = 15)\n",
    "ax.set_yscale('log')\n",
    "ax.set_ylim(5e42,2e43)\n",
    "plt.grid()\n",
    "plt.savefig('Final plot/convergence' + str(snap) + '.png')\n",
    "plt.show()"
   ]
  }
 ],
 "metadata": {
  "kernelspec": {
   "display_name": "tde_comparison",
   "language": "python",
   "name": "python3"
  },
  "language_info": {
   "codemirror_mode": {
    "name": "ipython",
    "version": 3
   },
   "file_extension": ".py",
   "mimetype": "text/x-python",
   "name": "python",
   "nbconvert_exporter": "python",
   "pygments_lexer": "ipython3",
   "version": "3.9.18"
  }
 },
 "nbformat": 4,
 "nbformat_minor": 2
}
