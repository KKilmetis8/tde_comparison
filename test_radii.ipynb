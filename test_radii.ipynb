{
 "cells": [
  {
   "cell_type": "code",
   "execution_count": 1,
   "metadata": {},
   "outputs": [],
   "source": [
    "import numpy as np\n",
    "import healpy as hp\n",
    "import matplotlib.pyplot as plt\n",
    "from src.Luminosity.red_cesare import doer_of_thing\n",
    "from src.Calculators.ray_cesare import ray_maker\n",
    "from src.Luminosity.special_radii import get_photosphere\n",
    "import scipy.io\n",
    "from scipy.stats import gmean\n",
    "fix = 925\n",
    "m = 6\n",
    "Rt = (10**m)**(1/3)"
   ]
  },
  {
   "cell_type": "code",
   "execution_count": 2,
   "metadata": {},
   "outputs": [],
   "source": [
    "num_array = np.arange(1700, 2000, 50)"
   ]
  },
  {
   "cell_type": "code",
   "execution_count": 3,
   "metadata": {},
   "outputs": [
    {
     "name": "stdout",
     "output_type": "stream",
     "text": [
      "num 1700\n"
     ]
    }
   ],
   "source": [
    "lum_array = np.zeros(len(num_array))\n",
    "photo_mean_aritarray = np.zeros(len(num_array))\n",
    "photo_mean_geomarray = np.zeros(len(num_array))\n",
    "for i, num in enumerate(num_array):\n",
    "    print('num', num)\n",
    "    lum, sphere_radius = doer_of_thing(fix, m, num)\n",
    "    sphere_radius = np.array(sphere_radius)\n",
    "    sphere_radius /=  6.957e10\n",
    "    lum_array[i] = lum\n",
    "    photo_mean_aritarray[i] = np.mean(sphere_radius)\n",
    "    photo_mean_geomarray[i] = gmean(sphere_radius)"
   ]
  },
  {
   "cell_type": "code",
   "execution_count": null,
   "metadata": {},
   "outputs": [],
   "source": [
    "with open('data/red/convergence_test' + str(fix) + '.txt', 'a') as f:\n",
    "    f.write('#num \\n')\n",
    "    f.write(' '.join(map(str,num_array)) + '\\n')\n",
    "    f.write('#R_ph arit mean \\n')\n",
    "    f.write(' '.join(map(str, photo_mean_aritarray)) + '\\n')\n",
    "    f.write('#R_ph geom mean \\n')\n",
    "    f.write(' '.join(map(str, photo_mean_geomarray)) + '\\n')\n",
    "    f.write('#Lum \\n')\n",
    "    f.write(' '.join(map(str, lum_array)) + '\\n')\n",
    "    f.close()"
   ]
  },
  {
   "cell_type": "code",
   "execution_count": null,
   "metadata": {},
   "outputs": [],
   "source": [
    "data = np.loadtxt('data/red/convergence_test' + str(fix)+ '.txt')\n",
    "num_array = np.array(data[0])\n",
    "photo_mean_aritarray = data[1]\n",
    "photo_mean_geomarray = data[2]\n",
    "lum_array = data[3]"
   ]
  },
  {
   "cell_type": "code",
   "execution_count": null,
   "metadata": {},
   "outputs": [],
   "source": [
    "start = 0.5 * Rt\n",
    "stop = 10_000 #400 * Rt\n",
    "log_start = np.log10(start)\n",
    "log_stop = np.log10(stop)\n",
    "spacing = np.zeros(len(num_array)) #step in logspace\n",
    "diff_aritarray = np.zeros(len(num_array)) #cell around R_ph mean\n",
    "diff_geomarray = np.zeros(len(num_array)) #cell around R_ph mean\n",
    "for i,num in enumerate(num_array):\n",
    "    log_radii = np.linspace(log_start, log_stop, int(num)) #simulator units\n",
    "    spacing[i] = log_radii[1]-log_radii[0]\n",
    "    \n",
    "    radii = 10**log_radii\n",
    "    diff_arit_idx = np.argmin(np.abs(photo_mean_aritarray[i]-radii))\n",
    "    diff_arit = radii[diff_arit_idx+1]-radii[diff_arit_idx]\n",
    "    diff_aritarray[i] = diff_arit\n",
    "\n",
    "    diff_geom_idx = np.argmin(np.abs(photo_mean_geomarray[i]-radii))\n",
    "    diff_geom = radii[diff_geom_idx+1]-radii[diff_geom_idx]\n",
    "    diff_geomarray[i] = diff_geom"
   ]
  },
  {
   "cell_type": "code",
   "execution_count": null,
   "metadata": {},
   "outputs": [],
   "source": [
    "spacing_plot = np.zeros(len(num_array))\n",
    "for i,spa in enumerate(spacing):\n",
    "    spacing_plot[i] = \"{:.4f}\".format(spa)"
   ]
  },
  {
   "cell_type": "code",
   "execution_count": null,
   "metadata": {},
   "outputs": [],
   "source": [
    "choose_reference = np.argmin(np.abs(num_array-1400))\n",
    "ratio_arit = photo_mean_aritarray / photo_mean_aritarray[choose_reference]\n",
    "ratio_geom = photo_mean_geomarray / photo_mean_geomarray[choose_reference]\n",
    "ratio_lum = lum_array / lum_array[choose_reference]"
   ]
  },
  {
   "cell_type": "code",
   "execution_count": null,
   "metadata": {},
   "outputs": [],
   "source": [
    "referenced_arit = 1 - ratio_arit\n",
    "referenced_geom = 1 - ratio_geom\n",
    "referenced_lum = 1 - ratio_lum"
   ]
  },
  {
   "cell_type": "code",
   "execution_count": null,
   "metadata": {},
   "outputs": [],
   "source": [
    "fig, ax1 = plt.subplots( figsize = (8,6) )\n",
    "ax2 = ax1.twiny()\n",
    "#img = ax1.scatter(num_array, photo_mean_aritarray, c = diff_aritarray)\n",
    "img = ax1.scatter(num_array, referenced_arit, c = diff_aritarray)\n",
    "cbar = fig.colorbar(img)\n",
    "cbar.set_label(r'cell dimension [$R_\\odot$]')\n",
    "ax1.set_xlabel(r'N$_{cell}$')\n",
    "ax1.set_ylabel(r'1- $\\bar{R}_{ph}/R_{ref}$ (arit mean)')\n",
    "ax1.grid()\n",
    "ax1.set_ylim(-0.05, 0.05)\n",
    "ax2.set_xticklabels(spacing_plot)\n",
    "ax2.set_xlabel('step in logspace ')\n",
    "plt.savefig('Figs/Convergence_check/convergence_aritphoto' + str(fix) + '.png')"
   ]
  },
  {
   "cell_type": "code",
   "execution_count": null,
   "metadata": {},
   "outputs": [],
   "source": [
    "fig, ax1 = plt.subplots( figsize = (8,6) )\n",
    "ax2 = ax1.twiny()\n",
    "img = ax1.scatter(num_array, referenced_geom, c = diff_geomarray)\n",
    "cbar = fig.colorbar(img)\n",
    "cbar.set_label(r'cell dimension [$R_\\odot$]')\n",
    "ax1.set_xlabel(r'N$_{cell}$')\n",
    "ax1.set_ylabel(r'$\\bar{R}_{ph}/R_{ref}$ (geom mean)')\n",
    "ax1.grid()\n",
    "ax1.set_ylim(-0.05, 0.05)\n",
    "ax2.set_xticklabels(spacing_plot)\n",
    "ax2.set_xlabel('step in logspace ')\n",
    "plt.savefig('Figs/Convergence_check/convergence_geomphoto' + str(fix) + '.png')"
   ]
  },
  {
   "cell_type": "code",
   "execution_count": null,
   "metadata": {},
   "outputs": [],
   "source": [
    "#value_elad = 1.3e44\n",
    "fig, ax1 = plt.subplots( figsize = (8,6) )\n",
    "ax2 = ax1.twiny()\n",
    "img = ax1.scatter(num_array, referenced_lum, c = diff_aritarray)\n",
    "cbar = fig.colorbar(img)\n",
    "cbar.set_label(r'cell dimension at $\\bar{R}_{ph} [R_\\odot$] (arit mean)')\n",
    "#ax1.axhline(value_elad, c = 'k', linestyle = 'dashed', label = 'Steinberg&Stone')\n",
    "ax1.set_xlabel(r'N$_{cell}$')\n",
    "ax1.set_ylabel(r'1-L/$L_{ref}$')\n",
    "#ax1.set_yscale('log')\n",
    "ax1.set_ylim(-0.3, 0.3)\n",
    "ax2.set_xticklabels(spacing_plot)\n",
    "ax2.set_xlabel('step in logspace')\n",
    "ax1.grid()\n",
    "#ax1.legend()\n",
    "plt.savefig('Figs/Convergence_check/convergence_lum' + str(fix) + '.png')"
   ]
  }
 ],
 "metadata": {
  "kernelspec": {
   "display_name": "tde_comparison",
   "language": "python",
   "name": "python3"
  },
  "language_info": {
   "codemirror_mode": {
    "name": "ipython",
    "version": 3
   },
   "file_extension": ".py",
   "mimetype": "text/x-python",
   "name": "python",
   "nbconvert_exporter": "python",
   "pygments_lexer": "ipython3",
   "version": "3.9.18"
  }
 },
 "nbformat": 4,
 "nbformat_minor": 2
}
