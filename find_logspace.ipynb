{
 "cells": [
  {
   "cell_type": "code",
   "execution_count": 1,
   "metadata": {},
   "outputs": [],
   "source": [
    "import numpy as np\n",
    "from src.Luminosity.special_radii import get_photosphere, calc_photosphere\n",
    "from src.Calculators.ray_cesare import ray_maker"
   ]
  },
  {
   "cell_type": "code",
   "execution_count": null,
   "metadata": {},
   "outputs": [],
   "source": [
    "m = 6\n",
    "snapshots = [844, 881,  925, 950]"
   ]
  },
  {
   "cell_type": "code",
   "execution_count": null,
   "metadata": {},
   "outputs": [],
   "source": [
    "sphere_radius = []\n",
    "rays_T, rays_den, rays, radii = ray_maker(fix, m)\n",
    "for i in range(len(rays_T)):\n",
    "        temp = rays_T[i]\n",
    "        dens = rays_den[i]\n",
    "        ray = rays[i]\n",
    "        _, _, photo = calc_photosphere(temp, dens, radii)\n",
    "photosphere = np.mean(sphere_radius)"
   ]
  },
  {
   "cell_type": "code",
   "execution_count": 2,
   "metadata": {},
   "outputs": [
    {
     "name": "stdout",
     "output_type": "stream",
     "text": [
      "2.3485951784873578\n"
     ]
    }
   ],
   "source": [
    "m = 6\n",
    "Mbh = 10**m \n",
    "Rt =  Mbh**(1/3)\n",
    "start = 2 * Rt\n",
    "stop = 10_000 #400 * Rt\n",
    "log_start = np.log10(start)\n",
    "log_stop = np.log10(stop)\n",
    "num = 4000 # about the average of cell radius\n",
    "log_radii = np.linspace(log_start, log_stop, num) #simulator units\n",
    "radii = 10**log_radii\n",
    "idx = np.argmin(np.abs(2400-radii))\n",
    "print(radii[idx+1]-radii[idx])"
   ]
  }
 ],
 "metadata": {
  "kernelspec": {
   "display_name": "tde_comparison",
   "language": "python",
   "name": "python3"
  },
  "language_info": {
   "codemirror_mode": {
    "name": "ipython",
    "version": 3
   },
   "file_extension": ".py",
   "mimetype": "text/x-python",
   "name": "python",
   "nbconvert_exporter": "python",
   "pygments_lexer": "ipython3",
   "version": "3.9.18"
  }
 },
 "nbformat": 4,
 "nbformat_minor": 2
}
