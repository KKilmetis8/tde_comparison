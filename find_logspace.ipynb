{
 "cells": [
  {
   "cell_type": "code",
   "execution_count": null,
   "metadata": {},
   "outputs": [],
   "source": [
    "import numpy as np\n",
    "import matplotlib.pyplot as plt\n",
    "from src.Luminosity.special_radii import get_photosphere\n",
    "from src.Calculators.ray_cesare import ray_maker"
   ]
  },
  {
   "cell_type": "code",
   "execution_count": null,
   "metadata": {},
   "outputs": [],
   "source": [
    "m = 6\n",
    "def select_fix(m):\n",
    "    if m == 4:\n",
    "        snapshots = [233] #, 254, 263, 277 , 293, 308, 322]\n",
    "        days = [1]# , 1.2, 1.3, 1.4, 1.56, 1.7, 1.8] \n",
    "    if m == 6:\n",
    "        snapshots = [844, 881, 925, 950] #[844, 881, 882, 898, 925, 950]\n",
    "        days = [1, 1.1, 1.3, 1.4] #[1, 1.139, 1.143, 1.2, 1.3, 1.4] # t/t_fb\n",
    "        const = 0.05\n",
    "        beginning = 1200\n",
    "    num_array = beginning * np.ones(len(snapshots))\n",
    "    for i in range(1,len(num_array)):\n",
    "            num_array[i] = int(1.5 * num_array[i-1])\n",
    "    return snapshots, days, num_array"
   ]
  },
  {
   "cell_type": "code",
   "execution_count": null,
   "metadata": {},
   "outputs": [],
   "source": [
    "fixes, days, nums_array = select_fix(m)"
   ]
  },
  {
   "cell_type": "code",
   "execution_count": null,
   "metadata": {},
   "outputs": [],
   "source": [
    "fix = 844\n",
    "num_array = 1200"
   ]
  },
  {
   "cell_type": "code",
   "execution_count": null,
   "metadata": {},
   "outputs": [],
   "source": [
    "rays_T, rays_den, rays, radii = ray_maker(fix, m, num_array)\n",
    "_, _, photo = get_photosphere(rays_T, rays_den, radii)\n",
    "photo_mean = np.mean(photo)"
   ]
  },
  {
   "cell_type": "code",
   "execution_count": null,
   "metadata": {},
   "outputs": [],
   "source": [
    "Rsol_to_cm = 6.957e10\n",
    "idx = np.argmin(np.abs(photo_mean-radii))\n",
    "mean_diff = (radii[idx+1]-radii[idx])/Rsol_to_cm\n",
    "print(mean_diff)"
   ]
  },
  {
   "cell_type": "code",
   "execution_count": null,
   "metadata": {},
   "outputs": [],
   "source": [
    "spacing = np.zeros(len(rays_T))\n",
    "for i in range(len(rays_T)):\n",
    "    ph = photo[i]\n",
    "    i_photo = np.argmin(np.abs(ph-radii))\n",
    "    spacing[i] = (radii[i_photo+1]-radii[i_photo])/Rsol_to_cm"
   ]
  },
  {
   "cell_type": "code",
   "execution_count": null,
   "metadata": {},
   "outputs": [],
   "source": [
    "plt.scatter(np.arange(192), spacing, s = 2)\n",
    "plt.axhline(mean_diff, c = 'k')\n",
    "plt.yscale('log')"
   ]
  },
  {
   "cell_type": "code",
   "execution_count": null,
   "metadata": {},
   "outputs": [],
   "source": [
    "plt.plot(days,num_array, '-o')\n",
    "print(num_array)"
   ]
  }
 ],
 "metadata": {
  "kernelspec": {
   "display_name": "tde_comparison",
   "language": "python",
   "name": "python3"
  },
  "language_info": {
   "codemirror_mode": {
    "name": "ipython",
    "version": 3
   },
   "file_extension": ".py",
   "mimetype": "text/x-python",
   "name": "python",
   "nbconvert_exporter": "python",
   "pygments_lexer": "ipython3",
   "version": "3.9.18"
  }
 },
 "nbformat": 4,
 "nbformat_minor": 2
}
