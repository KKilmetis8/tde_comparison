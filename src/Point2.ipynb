{
 "cells": [
  {
   "cell_type": "code",
   "execution_count": 9,
   "metadata": {},
   "outputs": [
    {
     "data": {
      "text/plain": [
       "'\\nCalculate emissivity for a cell\\n'"
      ]
     },
     "execution_count": 9,
     "metadata": {},
     "output_type": "execute_result"
    }
   ],
   "source": [
    "\"\"\"\n",
    "Calculate emissivity for a cell\n",
    "\"\"\""
   ]
  },
  {
   "cell_type": "code",
   "execution_count": 10,
   "metadata": {},
   "outputs": [],
   "source": [
    "import numpy as np\n",
    "from scipy.interpolate import RegularGridInterpolator"
   ]
  },
  {
   "cell_type": "code",
   "execution_count": 11,
   "metadata": {},
   "outputs": [],
   "source": [
    "alpha = 7.5646 * 10**(-15) #radiation density [erg/cm^3K^4]\n",
    "solar_mass = 1.989e33 #[g]\n",
    "solar_radius = 6.957e10 #[cm]\n",
    "G = 6.6743e-11 #SI\n",
    "c = 2.9979e10 #[cm/s] \n",
    "t_conv = np.sqrt((solar_radius/10**2)**3/(G*solar_mass*10**(-3))) #time in seconds is time_simlation*t_conv"
   ]
  },
  {
   "cell_type": "code",
   "execution_count": null,
   "metadata": {},
   "outputs": [],
   "source": [
    "\"\"\"Import data from simulation. NB: Planck, T, rho are in ln\"\"\"\n",
    "loadpath = 'src/Optical_Depth/'\n",
    "lnT = np.loadtxt(loadpath + 'T.txt') \n",
    "lnrho = np.loadtxt(loadpath + 'rho.txt')\n",
    "lnplanck = np.loadtxt(loadpath + 'planck.txt')"
   ]
  },
  {
   "cell_type": "code",
   "execution_count": null,
   "metadata": {},
   "outputs": [],
   "source": [
    "lnk_inter = RegularGridInterpolator( (lnT, lnrho), lnplanck) #we use T and rho to interpolate??"
   ]
  },
  {
   "cell_type": "code",
   "execution_count": null,
   "metadata": {},
   "outputs": [],
   "source": [
    "def emissivity(T,rho,k_planck, cell_vol):\n",
    "    alpha *= solar_mass / (t_conv**2*solar_radius)\n",
    "    c *= solar_radius/t_conv\n",
    "    cell_vol *= solar_radius**3\n",
    "    ln_T = np.log(T)\n",
    "    ln_rho = np.log(rho)\n",
    "    ln_planck = lnk_inter((ln_T, ln_rho))\n",
    "    k_planck = np.exp(ln_planck) #do we have to convert it???\n",
    "    emiss = alpha * c * T**4 * k_planck * cell_vol\n",
    "    return emiss"
   ]
  }
 ],
 "metadata": {
  "kernelspec": {
   "display_name": "Python 3",
   "language": "python",
   "name": "python3"
  },
  "language_info": {
   "codemirror_mode": {
    "name": "ipython",
    "version": 3
   },
   "file_extension": ".py",
   "mimetype": "text/x-python",
   "name": "python",
   "nbconvert_exporter": "python",
   "pygments_lexer": "ipython3",
   "version": "3.10.4"
  },
  "orig_nbformat": 4
 },
 "nbformat": 4,
 "nbformat_minor": 2
}
