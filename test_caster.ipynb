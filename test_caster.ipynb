{
 "cells": [
  {
   "cell_type": "code",
   "execution_count": 1,
   "metadata": {},
   "outputs": [],
   "source": [
    "import numpy as np\n",
    "import healpy as hp\n",
    "from astropy.coordinates import cartesian_to_spherical\n",
    "from src.Calculators.casters import THE_TRIPLE_CASTER\n",
    "from src.Calculators.legion_of_casters import THROUPLE_S_CASTERS\n",
    "import matplotlib.pyplot as plt"
   ]
  },
  {
   "cell_type": "code",
   "execution_count": 2,
   "metadata": {},
   "outputs": [],
   "source": [
    "m = 6\n",
    "fix = 881\n",
    "G = 6.6743e-11 # SI\n",
    "NSIDE = 4\n",
    "Msol = 1.98847e30 # kg\n",
    "Rsol = 6.957e8 # m\n",
    "t = np.sqrt(Rsol**3 / (Msol*G )) # Follows from G = 1\n",
    "c = 3e8 * t/Rsol # simulator units. Need these for the PW potential\n",
    "c_cgs = 3e10 # [cm/s]\n",
    "Msol_to_g = 1.989e33 # [g]\n",
    "Rsol_to_cm = 6.957e10 # [cm]\n",
    "den_converter = Msol_to_g / Rsol_to_cm**3\n",
    "\n",
    "fix = str(fix)\n",
    "Mbh = 10**m \n",
    "Rt =  Mbh**(1/3) # Msol = 1, Rsol = 1"
   ]
  },
  {
   "cell_type": "code",
   "execution_count": 3,
   "metadata": {},
   "outputs": [],
   "source": [
    "thetas = np.zeros(192)\n",
    "phis = np.zeros(192)\n",
    "observers = []\n",
    "for i in range(0,192):\n",
    "    thetas[i], phis[i] = hp.pix2ang(NSIDE, i)\n",
    "    thetas[i] -= np.pi/2\n",
    "    phis[i] -= np.pi\n",
    "    observers.append( (thetas[i], phis[i]) )\n"
   ]
  },
  {
   "cell_type": "code",
   "execution_count": 4,
   "metadata": {},
   "outputs": [],
   "source": [
    "radius = np.linspace(0.2*Rt, 10_000, 750)"
   ]
  },
  {
   "cell_type": "code",
   "execution_count": 5,
   "metadata": {},
   "outputs": [
    {
     "name": "stdout",
     "output_type": "stream",
     "text": [
      "phi min: -3.141592653589793\n",
      "phi max: 2.94524311274043\n",
      "theta min: -1.3663161278263616\n",
      "theta max: 1.3663161278263618\n"
     ]
    }
   ],
   "source": [
    "# for moll we want: theta in [-pi/2, pi/2], phi in [-pi,pi]\n",
    "print('phi min:', np.min(phis))\n",
    "print('phi max:', np.max(phis))\n",
    "print('theta min:', np.min(thetas))\n",
    "print('theta max:', np.max(thetas))"
   ]
  },
  {
   "cell_type": "code",
   "execution_count": 6,
   "metadata": {},
   "outputs": [],
   "source": [
    "# phi_grid, theta_grid = np.meshgrid(phis,thetas)\n",
    "# radius = 3 * phi_grid/phi_grid\n",
    "# print(radius)\n",
    "# fig = plt.figure()\n",
    "# ax = fig.add_subplot(1,1,1, projection='3d')\n",
    "# plot = ax.plot_surface(phi_grid, theta_grid, radius, cmap ='cet_fire')\n",
    "# plt.show()"
   ]
  },
  {
   "cell_type": "code",
   "execution_count": 7,
   "metadata": {},
   "outputs": [],
   "source": [
    "# Import\n",
    "X = np.load( str(m) + '/'  + fix + '/CMx_' + fix + '.npy')\n",
    "Y = np.load( str(m) + '/'  + fix + '/CMy_' + fix + '.npy')\n",
    "Z = np.load( str(m) + '/'  + fix + '/CMz_' + fix + '.npy')\n",
    "Mass = np.load( str(m) + '/'  + fix + '/Mass_' + fix + '.npy')\n",
    "T = np.load( str(m) + '/'  + fix + '/T_' + fix + '.npy')\n",
    "Den = np.load( str(m) + '/'  + fix + '/Den_' + fix + '.npy')\n",
    "Rad = np.load( str(m) + '/'  +fix + '/Rad_' + fix + '.npy')"
   ]
  },
  {
   "cell_type": "code",
   "execution_count": 8,
   "metadata": {},
   "outputs": [],
   "source": [
    "Den *= den_converter \n",
    "R, THETA, PHI = cartesian_to_spherical(X,Y,Z)\n",
    "R = R.value \n",
    "THETA = THETA.value #from -pi/2 to pi/2\n",
    "PHI = PHI.value\n",
    "PHI -= np.pi #from -pi to pi"
   ]
  },
  {
   "cell_type": "code",
   "execution_count": 9,
   "metadata": {},
   "outputs": [
    {
     "name": "stdout",
     "output_type": "stream",
     "text": [
      "phi min simul: -3.141592343305648\n",
      "phi max simul: 3.141588635023931\n",
      "theta min simul: -1.56902225202048\n",
      "theta max simul: 1.5681879547097137\n"
     ]
    }
   ],
   "source": [
    "# have to be in the same range of phis and thetas\n",
    "print('phi min simul:', np.min(PHI))\n",
    "print('phi max simul:', np.max(PHI))\n",
    "print('theta min simul:', np.min(THETA))\n",
    "print('theta max simul:', np.max(THETA))"
   ]
  },
  {
   "cell_type": "code",
   "execution_count": 10,
   "metadata": {},
   "outputs": [
    {
     "name": "stderr",
     "output_type": "stream",
     "text": [
      "/Users/paolamartire/miniconda3/envs/tde_comparison/lib/python3.9/site-packages/numba/core/ir_utils.py:2149: NumbaPendingDeprecationWarning: \u001b[1m\n",
      "Encountered the use of a type that is scheduled for deprecation: type 'reflected list' found for argument 'observers' of function 'THROUPLE_S_CASTERS'.\n",
      "\n",
      "For more information visit https://numba.readthedocs.io/en/stable/reference/deprecation.html#deprecation-of-reflection-for-list-and-set-types\n",
      "\u001b[1m\n",
      "File \"src/Calculators/legion_of_casters.py\", line 12:\u001b[0m\n",
      "\u001b[1m@numba.njit\n",
      "\u001b[1mdef THROUPLE_S_CASTERS(radii, R,\n",
      "\u001b[0m\u001b[1m^\u001b[0m\u001b[0m\n",
      "\u001b[0m\n",
      "  warnings.warn(NumbaPendingDeprecationWarning(msg, loc=loc))\n"
     ]
    },
    {
     "name": "stdout",
     "output_type": "stream",
     "text": [
      "(750, 192)\n"
     ]
    }
   ],
   "source": [
    "T_casted, _, _ = THROUPLE_S_CASTERS(radius, R, observers, THETA, PHI, T, Den, Rad, weights = Mass, avg = False)"
   ]
  },
  {
   "cell_type": "code",
   "execution_count": 14,
   "metadata": {},
   "outputs": [],
   "source": [
    "# Rchosen = Rt\n",
    "# #phis longitude, thetas latitude where theta in[0,pi] and phi in [0,2pi)\n",
    "# Xcoord = Rchosen * np.sin(thetas) * np.cos(phis)\n",
    "# Ycoord = Rchosen * np.sin(thetas) * np.sin(phis)\n",
    "# Zcoord = Rchosen * np.cos(thetas)"
   ]
  },
  {
   "cell_type": "code",
   "execution_count": 17,
   "metadata": {},
   "outputs": [],
   "source": [
    "thetas  += np.pi/2\n",
    "phis += np.pi"
   ]
  },
  {
   "cell_type": "code",
   "execution_count": 22,
   "metadata": {},
   "outputs": [
    {
     "name": "stdout",
     "output_type": "stream",
     "text": [
      "found\n",
      "found\n",
      "found\n",
      "found\n",
      "found\n",
      "found\n",
      "found\n",
      "found\n",
      "found\n",
      "found\n",
      "found\n",
      "found\n",
      "found\n",
      "found\n",
      "found\n",
      "found\n"
     ]
    }
   ],
   "source": [
    "#idx = np.argmin(np.abs(np.pi/2-thetas)) #equatorial plane\n",
    "T_to_plot = []\n",
    "phis_to_plot = []\n",
    "for i in range(192):\n",
    "    if thetas[i] == np.pi/2:\n",
    "        print('found')\n",
    "        T_to_plot.append(T_casted[:,i])\n",
    "        phis_to_plot.append(phis[i])\n"
   ]
  },
  {
   "cell_type": "code",
   "execution_count": 68,
   "metadata": {},
   "outputs": [],
   "source": [
    "T_new_to_plot = np.zeros(16)\n",
    "for i in range(16):\n",
    "    for j in range(750):\n",
    "        T_new_to_plot[i] += T_to_plot[i][j]/16"
   ]
  },
  {
   "cell_type": "code",
   "execution_count": 90,
   "metadata": {},
   "outputs": [],
   "source": [
    "T_near_bh = np.zeros(16)\n",
    "for i in range(16):\n",
    "    T_near_bh[i] += (T_to_plot[i][1] + T_to_plot[i][2] + T_to_plot[i][3])/3"
   ]
  },
  {
   "cell_type": "code",
   "execution_count": 91,
   "metadata": {},
   "outputs": [
    {
     "name": "stdout",
     "output_type": "stream",
     "text": [
      "[ 99.70012591 104.89989303  98.288539    91.6961923  100.99377745\n",
      " 134.50973605 189.43898286 223.54196132 289.17070209 209.34695201\n",
      " 177.42858423 161.96017001 142.27597909 121.80161464 109.9093072\n",
      " 113.06989245]\n"
     ]
    }
   ],
   "source": [
    "print(T_new_to_plot)"
   ]
  },
  {
   "cell_type": "code",
   "execution_count": 92,
   "metadata": {},
   "outputs": [],
   "source": [
    "# Pericenter: X = Rt, Y=0=Z\n",
    "# R = sqrt, theta = arccos(z/r), phi = sgn(y)*arccos(x/sqrt(x^2+y^2))\n",
    "r_peric = Rt\n",
    "theta_peric = np.pi/2\n",
    "phi_peric = 0\n",
    "r_bh = 0\n",
    "theta_bh = 0\n",
    "phi_bh = 0\n"
   ]
  },
  {
   "cell_type": "code",
   "execution_count": 93,
   "metadata": {},
   "outputs": [
    {
     "data": {
      "text/plain": [
       "<matplotlib.colorbar.Colorbar at 0x148576940>"
      ]
     },
     "execution_count": 93,
     "metadata": {},
     "output_type": "execute_result"
    },
    {
     "data": {
      "image/png": "[encoded data removed]",
      "text/plain": [
       "<Figure size 640x480 with 2 Axes>"
      ]
     },
     "metadata": {},
     "output_type": "display_data"
    }
   ],
   "source": [
    "fig, ax = plt.subplots()\n",
    "Xpolar = np.cos(phis_to_plot)\n",
    "Ypolar = np.sin(phis_to_plot)\n",
    "# img = plt.scatter(Xpolar, Ypolar, c = T_new_to_plot)\n",
    "img = plt.scatter(Xpolar, Ypolar, c = T_near_bh)\n",
    "plt.scatter(np.cos(phi_peric), np.sin(theta_peric), c = 'r', marker= 'P')\n",
    "plt.scatter(np.cos(phi_bh), np.sin(theta_bh), c = 'black', marker= (5,2))\n",
    "plt.xlabel('cos$\\phi$')\n",
    "plt.ylabel('sin$\\phi$')\n",
    "plt.colorbar(img)\n",
    "#img = ax.pcolormesh(Xpolar, Ypolar, T_new_to_plot, cmap= 'cet_fire', vmin = 0, vmax = 6)\n"
   ]
  },
  {
   "cell_type": "code",
   "execution_count": 94,
   "metadata": {},
   "outputs": [
    {
     "ename": "NameError",
     "evalue": "name 'Xcoord' is not defined",
     "output_type": "error",
     "traceback": [
      "\u001b[0;31m---------------------------------------------------------------------------\u001b[0m",
      "\u001b[0;31mNameError\u001b[0m                                 Traceback (most recent call last)",
      "\u001b[1;32m/Users/paolamartire/tde_comparison/test_caster.ipynb Cell 19\u001b[0m line \u001b[0;36m2\n\u001b[1;32m      <a href='vscode-notebook-cell:/Users/paolamartire/tde_comparison/test_caster.ipynb#X16sZmlsZQ%3D%3D?line=0'>1</a>\u001b[0m fig, ax \u001b[39m=\u001b[39m plt\u001b[39m.\u001b[39msubplots()\n\u001b[0;32m----> <a href='vscode-notebook-cell:/Users/paolamartire/tde_comparison/test_caster.ipynb#X16sZmlsZQ%3D%3D?line=1'>2</a>\u001b[0m img \u001b[39m=\u001b[39m ax\u001b[39m.\u001b[39mpcolormesh(Xcoord, Ycoord, plot_density, cmap\u001b[39m=\u001b[39m \u001b[39m'\u001b[39m\u001b[39mcet_fire\u001b[39m\u001b[39m'\u001b[39m, vmin \u001b[39m=\u001b[39m \u001b[39m0\u001b[39m, vmax \u001b[39m=\u001b[39m \u001b[39m6\u001b[39m)\n\u001b[1;32m      <a href='vscode-notebook-cell:/Users/paolamartire/tde_comparison/test_caster.ipynb#X16sZmlsZQ%3D%3D?line=2'>3</a>\u001b[0m fig\u001b[39m.\u001b[39mcolorbar(img)\n\u001b[1;32m      <a href='vscode-notebook-cell:/Users/paolamartire/tde_comparison/test_caster.ipynb#X16sZmlsZQ%3D%3D?line=3'>4</a>\u001b[0m plt\u001b[39m.\u001b[39mgrid(\u001b[39mTrue\u001b[39;00m)\n",
      "\u001b[0;31mNameError\u001b[0m: name 'Xcoord' is not defined"
     ]
    },
    {
     "data": {
      "image/png": "[encoded data removed]",
      "text/plain": [
       "<Figure size 640x480 with 1 Axes>"
      ]
     },
     "metadata": {},
     "output_type": "display_data"
    }
   ],
   "source": [
    "fig, ax = plt.subplots()\n",
    "img = ax.pcolormesh(Xcoord, Ycoord, plot_density, cmap= 'cet_fire', vmin = 0, vmax = 6)\n",
    "fig.colorbar(img)\n",
    "plt.grid(True)\n",
    "plt.show()"
   ]
  },
  {
   "cell_type": "code",
   "execution_count": null,
   "metadata": {},
   "outputs": [],
   "source": []
  },
  {
   "cell_type": "code",
   "execution_count": null,
   "metadata": {},
   "outputs": [],
   "source": [
    "# fig, ax = plt.subplots(1,1, subplot_kw=dict(projection=\"mollweide\"))\n",
    "# img = ax.pcolormesh(phis,thetas, plot_density, cmap= 'cet_fire', vmin = 0, vmax = 6)\n",
    "# plt.scatter(phi_peric, theta_peric, c = 'r')\n",
    "# fig.colorbar(img)\n",
    "# plt.grid(True)\n",
    "# plt.show()\n"
   ]
  }
 ],
 "metadata": {
  "kernelspec": {
   "display_name": "tde_comparison",
   "language": "python",
   "name": "python3"
  },
  "language_info": {
   "codemirror_mode": {
    "name": "ipython",
    "version": 3
   },
   "file_extension": ".py",
   "mimetype": "text/x-python",
   "name": "python",
   "nbconvert_exporter": "python",
   "pygments_lexer": "ipython3",
   "version": "3.9.18"
  }
 },
 "nbformat": 4,
 "nbformat_minor": 2
}
