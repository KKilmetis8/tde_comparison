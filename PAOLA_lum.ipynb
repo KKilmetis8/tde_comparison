{
 "cells": [
  {
   "cell_type": "code",
   "execution_count": null,
   "metadata": {},
   "outputs": [],
   "source": [
    "\"\"\"\n",
    "Created on Wed Sep 27 \n",
    "\n",
    "@author: paola \n",
    "\n",
    "Calculate the luminosity normalized that we will use in the blue (BB) curve.\n",
    "\n",
    "NOTES FOR OTHERS:\n",
    "- All the functions have to be applied to a CELL\n",
    "- arguments are in cgs, NOT in log.\n",
    "\"\"\""
   ]
  },
  {
   "cell_type": "code",
   "execution_count": null,
   "metadata": {},
   "outputs": [],
   "source": [
    "# Vanilla imports\n",
    "import numpy as np\n",
    "import matplotlib.pyplot as plt\n",
    "\n",
    "# Chocolate imports\n",
    "from src.Luminosity.photosphere import get_photosphere\n",
    "from src.Optical_Depth.opacity_table import opacity\n",
    "\n",
    "# Constants\n",
    "c = 2.9979e10 #[cm/s]\n",
    "h = 6.6261e-27 #[gcm^2/s]\n",
    "Kb = 1.3806e-16 #[gcm^2/s^2K]\n",
    "alpha = 7.5646 * 10**(-15) # radiation density [erg/cm^3K^4]\n",
    "Rsol_to_cm = 6.957e10\n"
   ]
  },
  {
   "cell_type": "code",
   "execution_count": null,
   "metadata": {},
   "outputs": [],
   "source": [
    "# VARIABLES: frequencies [Hz]\n",
    "n_min = 1e12 \n",
    "n_max = 1e18\n",
    "n_spacing = 10000\n",
    "#n_array = np.linspace(n_min, n_max, num = n_spacing)\n",
    "#n_logspace = np.log10(n_array)\n",
    "n_linear_in_log = np.linspace(np.log10(n_min), np.log10(n_max), num = n_spacing)"
   ]
  },
  {
   "cell_type": "code",
   "execution_count": null,
   "metadata": {},
   "outputs": [],
   "source": [
    "# FUNCTIONS\n",
    "\n",
    "def select_fix(m):\n",
    "    if m == 4:\n",
    "        snapshots = np.arange(233,263+1)\n",
    "        days = [1.015, 1.025, 1.0325, 1.0435, 1.0525, 1.06, 1.07, 1.08, 1.0875, 1.0975, 1.1075, 1.115, 1.125, 1.135, 1.1425, 1.1525, 1.1625, 1.17, 1.18, 1.19, 1.1975, 1.2075, 1.2175, 1.2275, 1.235, 1.245, 1.255, 1.2625, 1.2725, 1.2825, 1.29] #t/t_fb\n",
    "    if m == 6:\n",
    "        snapshots = [844, 881, 925, 950, 1006]\n",
    "        days = [1.00325, 1.13975, 1.302, 1.39425, 1.60075] #t/t_fb\n",
    "    return snapshots, days\n",
    "\n",
    "def emissivity(Temperature, Density, cell_vol):\n",
    "    \"\"\" Gives emissivity in a cell. \"\"\"\n",
    "    k_planck = opacity(Temperature, Density, 'planck', ln = False)\n",
    "    emiss = alpha * c * Temperature**4 * k_planck * cell_vol\n",
    "    return emiss\n",
    "\n",
    "def planck_fun_n_cell(Temperature: float, n: float) -> float:\n",
    "    \"\"\" Planck function in a cell. \"\"\"\n",
    "    const = 2*h/c**2\n",
    "    fun = const * n**3 / (np.exp(h*n/(Kb*Temperature))-1)\n",
    "    return fun"
   ]
  },
  {
   "cell_type": "code",
   "execution_count": null,
   "metadata": {},
   "outputs": [],
   "source": [
    "s,d = select_fix(4)\n",
    "len(d)"
   ]
  },
  {
   "cell_type": "code",
   "execution_count": null,
   "metadata": {},
   "outputs": [],
   "source": [
    "# Check how plots look: use n_array AND THEN LOGLOG\n",
    "\n",
    "# fig, axs = plt.subplots(1,2)\n",
    "# fig.subplots_adjust(wspace = 0.5)\n",
    "# axs[0].plot(n_array, planck_fun_n_cell(1e6, n_array))\n",
    "# axs[0].set_title('n_array')\n",
    "# axs[0].loglog()\n",
    "# axs[1].plot(n_logspace, planck_fun_n_cell(1e6, n_array))\n",
    "# axs[1].set_title('n_logspace')\n",
    "# axs[1].set_yscale('log')\n",
    "\n",
    "# print(find_peak(1e6))"
   ]
  },
  {
   "cell_type": "code",
   "execution_count": null,
   "metadata": {},
   "outputs": [],
   "source": [
    "# def real_planck_fun_cell(Temperature: float) -> float:\n",
    "#     \"\"\"\n",
    "#     Bolometric planck function in a cell B(T) without changing integrand.\n",
    "#     \"\"\"\n",
    "#     n_Bn_array = []\n",
    "    \n",
    "#     for n in n_array:\n",
    "#         n_Bn = planck_fun_n_cell(Temperature, n)\n",
    "#         n_Bn_array.append(n_Bn)\n",
    "        \n",
    "#     # Integrate\n",
    "#     n_Bn_array = np.array(n_Bn_array) # Make arr, to intergrate\n",
    "#     fun = np.trapz(n_Bn_array, n_array)\n",
    "#     return fun\n"
   ]
  },
  {
   "cell_type": "code",
   "execution_count": null,
   "metadata": {},
   "outputs": [],
   "source": [
    "# def planck_fun_cell(Temperature: float) -> float:\n",
    "#     \"\"\"\n",
    "#     Bolometric planck function in a cell: B(T).\n",
    "#     \"\"\"\n",
    "#     n_Bn_array = []\n",
    "    \n",
    "#     for n in n_array:\n",
    "#         n_Bn = n * planck_fun_n_cell(Temperature, n)\n",
    "#         n_Bn_array.append(n_Bn)\n",
    "        \n",
    "#     # Integrate\n",
    "#     n_Bn_array = np.array(n_Bn_array) # Make arr, to intergrate\n",
    "#     fun = np.trapz(n_Bn_array, n_logspace)\n",
    "#     return fun"
   ]
  },
  {
   "cell_type": "code",
   "execution_count": null,
   "metadata": {},
   "outputs": [],
   "source": [
    "# # Check the mess with integration of B: almost the same thus we don't have problem integrating beyond the peak\n",
    "# def test_peak(Temperature: float) -> float:\n",
    "#     \"\"\"\n",
    "#     Bolometric planck function in a cell: B(T).\n",
    "#     \"\"\"\n",
    "#     n_Bn_array = []\n",
    "#     peak = find_peak(Temperature)\n",
    "    \n",
    "#     for n in n_array:\n",
    "#         if n > peak:\n",
    "#             n_Bn = 0 \n",
    "#         else:\n",
    "#             n_Bn = n * old_planck_fun_n_cell(Temperature, n)\n",
    "#         n_Bn_array.append(n_Bn)\n",
    "        \n",
    "#     # Integrate\n",
    "#     n_Bn_array = np.array(n_Bn_array) # Make arr, to intergrate\n",
    "#     fun = np.trapz(n_Bn_array, n_logspace)\n",
    "#     return fun\n",
    "\n",
    "# a = old_planck_fun_cell(1e6)\n",
    "# b = test_peak(1e6)\n",
    "# print(\"B all frequencies: \", a)\n",
    "# print(\"B cut at the peak: \", b)"
   ]
  },
  {
   "cell_type": "code",
   "execution_count": 1,
   "metadata": {},
   "outputs": [],
   "source": [
    "# Is it correct to use n_logspace? Almost, but no because the interval don't match. We define our trapz\n",
    "# def hand_integration(fun, arr):\n",
    "#     \"\"\" Apply trapz rule on fun = f(arr) for not evenly space x\"\"\"\n",
    "#     F = 0\n",
    "    \n",
    "#     for i in range(1,len(arr)):\n",
    "#         delta_x = arr[i]-arr[i-1]\n",
    "#         f_step = (fun[i] + fun[i-1]) * delta_x / 2\n",
    "#         F += f_step\n",
    "        \n",
    "#     return F"
   ]
  },
  {
   "cell_type": "code",
   "execution_count": null,
   "metadata": {},
   "outputs": [],
   "source": [
    "# def luminosity_n(Temperature: float, Density: float, tau: float, volume: float, n:int):\n",
    "#     \"\"\" Luminosity in a cell. \"\"\"\n",
    "#     epsilon = emissivity(Temperature, Density, volume)\n",
    "#     lum_cell = epsilon * planck_fun_n_cell(Temperature, n) * np.exp(-tau)\n",
    "#     return (lum_cell/planck_fun_cell(Temperature))\n",
    "    "
   ]
  },
  {
   "cell_type": "code",
   "execution_count": null,
   "metadata": {},
   "outputs": [],
   "source": [
    "def Elena_luminosity_n(Temperature: float, Density: float, tau: float, volume: float, n:int):\n",
    "    k_planck = opacity(Temperature, Density, 'planck', ln = False)\n",
    "    L = 4/3 * np.pi * k_planck * volume * np.exp(-tau) * planck_fun_n_cell(Temperature, n)\n",
    "    return L\n",
    "\n",
    "#NON C'E' IL 3"
   ]
  },
  {
   "cell_type": "code",
   "execution_count": null,
   "metadata": {},
   "outputs": [],
   "source": [
    "def final_normalisation(L_n: np.array, luminosity_fld: float) -> float:\n",
    "    \"\"\" Given the array of luminosity L_n computed over 10^{n_lin_in_log} (!!!), find the normalisation constant from FLD model used for L_tilde_nu. \"\"\"  \n",
    "    n_L_n = np.log(10) * 10**(n_linear_in_log) * L_n\n",
    "    L = np.trapz(n_L_n, n_linear_in_log) \n",
    "    norm = luminosity_fld / L\n",
    "    return norm"
   ]
  },
  {
   "cell_type": "code",
   "execution_count": null,
   "metadata": {},
   "outputs": [],
   "source": [
    "# def TEST_final_norm(L_n: np.array, luminosity_fld: float):\n",
    "#     L = np.trapz(L_n, n_array)\n",
    "#     norm = luminosity_fld / L\n",
    "#     return  norm"
   ]
  },
  {
   "cell_type": "code",
   "execution_count": null,
   "metadata": {},
   "outputs": [],
   "source": [
    "# def final_normalisation(L_n: np.array, luminosity_fld: float) -> float:\n",
    "#     \"\"\" Given the array of luminosity L_n computed over n_array (!!!), find the normalisation constant from FLD model used for L_tilde_nu. \"\"\"  \n",
    "#     n_L_n = np.log(10) * n_array * L_n\n",
    "#     L = np.trapz(n_L_n, n_logspace) \n",
    "#     norm = luminosity_fld / L\n",
    "#     return norm\n",
    "\n",
    "# OLD MAIN\n",
    "# if __name__ == \"__main__\":\n",
    "#     m = 4\n",
    "#     fix_index = 0\n",
    "\n",
    "#     snapshots, days = select_fix(m)\n",
    "#     fld_data = np.loadtxt('reddata_m'+ str(m) +'.txt')\n",
    "#     fix = snapshots[fix_index]\n",
    "#     luminosity_fld_fix = fld_data[1]\n",
    "#     rays_den, rays_T, rays_tau, photosphere, radii = get_photosphere(fix, m)\n",
    "#     dr = (radii[1] - radii[0]) * Rsol_to_cm\n",
    "#     volume = 4 * np.pi * radii**2 * dr  / 192\n",
    "\n",
    "#     lum_n = np.zeros(len(n_logspace))\n",
    "#     for j in range(len(rays_den)):\n",
    "#         for i in range(len(rays_tau[j])):        \n",
    "#             # Temperature, Density and volume: np.array from near to the BH to far away. Thus we will use negative index in the for loop.\n",
    "#             # tau: np.array from outside to inside.      \n",
    "#             T = rays_T[j][-i]\n",
    "#             rho = rays_den[j][-i] \n",
    "#             opt_depth = rays_tau[j][i]\n",
    "#             cell_vol = volume[-i]\n",
    "\n",
    "#             # Ensure we can interpolate\n",
    "#             rho_low = np.exp(-22)\n",
    "#             T_low = np.exp(8.77)\n",
    "#             T_high = np.exp(17.8)\n",
    "#             if rho < rho_low or T < T_low or T > T_high:\n",
    "#                 continue\n",
    "\n",
    "#             for n_index in range(len(n_array)):\n",
    "#                 # lum_n_cell = luminosity_n(T, rho, opt_depth, cell_vol, n_array[n_index])\n",
    "#                 lum_n_cell = Elena_luminosity_n(T, rho, opt_depth, cell_vol, n_array[n_index])\n",
    "#                 lum_n[n_index] += lum_n_cell\n",
    "        \n",
    "#         # print('ray:', j)\n",
    "\n",
    "#     # Normalisation\n",
    "#     const_norm = final_normalisation(lum_n, luminosity_fld_fix[fix_index])\n",
    "#     #const_norm = TEST_final_norm(lum_n, luminosity_fld_fix[fix_index])\n",
    "#     lum_tilde_n = lum_n *  const_norm"
   ]
  },
  {
   "cell_type": "code",
   "execution_count": null,
   "metadata": {},
   "outputs": [],
   "source": [
    "# MAIN\n",
    "if __name__ == \"__main__\":\n",
    "    m = 4\n",
    "    fix_index = 30\n",
    "\n",
    "    snapshots, days = select_fix(m)\n",
    "    fld_data = np.loadtxt('reddata_m'+ str(m) +'.txt')\n",
    "    fix = snapshots[fix_index]\n",
    "    luminosity_fld_fix = fld_data[1]\n",
    "    rays_den, rays_T, rays_tau, photosphere, radii = get_photosphere(fix, m)\n",
    "    dr = (radii[1] - radii[0]) * Rsol_to_cm\n",
    "    volume = 4 * np.pi * radii**2 * dr  / 192\n",
    "\n",
    "    lum_n = np.zeros(len(n_linear_in_log))\n",
    "    for j in range(len(rays_den)):\n",
    "        for i in range(len(rays_tau[j])):        \n",
    "            # Temperature, Density and volume: np.array from near to the BH to far away. Thus we will use negative index in the for loop.\n",
    "            # tau: np.array from outside to inside.      \n",
    "            T = rays_T[j][-i]\n",
    "            rho = rays_den[j][-i] \n",
    "            opt_depth = rays_tau[j][i]\n",
    "            cell_vol = volume[-i]\n",
    "\n",
    "            # Ensure we can interpolate\n",
    "            rho_low = np.exp(-22)\n",
    "            T_low = np.exp(8.77)\n",
    "            T_high = np.exp(17.8)\n",
    "            if rho < rho_low or T < T_low or T > T_high:\n",
    "                continue\n",
    "            \n",
    "            for n_index in range(len(n_linear_in_log)): #we need linearspace\n",
    "                # lum_n_cell = luminosity_n(T, rho, opt_depth, cell_vol, n_array[n_index])\n",
    "                freq = 10**n_linear_in_log[n_index]\n",
    "                lum_n_cell = Elena_luminosity_n(T, rho, opt_depth, cell_vol, freq)\n",
    "                lum_n[n_index] += lum_n_cell\n",
    "        \n",
    "        # print('ray:', j)\n",
    "\n",
    "    # Normalisation\n",
    "    const_norm = final_normalisation(lum_n, luminosity_fld_fix[fix_index])\n",
    "    #const_norm = TEST_final_norm(lum_n, luminosity_fld_fix[fix_index])\n",
    "    lum_tilde_n = lum_n *  const_norm"
   ]
  },
  {
   "cell_type": "code",
   "execution_count": null,
   "metadata": {},
   "outputs": [],
   "source": [
    "#a = np.log(10)*n_array * lum_tilde_n\n",
    "#check = np.trapz(a, n_logspace)\n",
    "check = np.trapz(np.log(10) * 10**(n_linear_in_log) * lum_tilde_n, n_linear_in_log)\n",
    "check=\"{:.2e}\".format(check) #scientific notation\n",
    "print('bolometric L', check)"
   ]
  },
  {
   "cell_type": "code",
   "execution_count": null,
   "metadata": {},
   "outputs": [],
   "source": [
    "# with open('Ltilda_m'+ str(m) + '.txt', 'a') as f:\n",
    "#     # f.write(' '.join(map(str, n_logspace)) + '\\n')\n",
    "#     f.write('#snap '+ str(fix) + ' L_tilde_n \\n')\n",
    "#     f.write(' '.join(map(str, lum_tilde_n)) + '\\n')\n",
    "#     f.close()"
   ]
  },
  {
   "cell_type": "code",
   "execution_count": null,
   "metadata": {},
   "outputs": [],
   "source": [
    "# with open('L_m' + str(m) + '.txt', 'a') as fbolo:\n",
    "#     fbolo.write('#snap '+ str(fix) + '\\n')\n",
    "#     fbolo.write(check + '\\n')\n",
    "#     fbolo.close()"
   ]
  },
  {
   "cell_type": "code",
   "execution_count": null,
   "metadata": {},
   "outputs": [],
   "source": [
    "fig, ax = plt.subplots()\n",
    "ax.plot(10**n_linear_in_log, lum_tilde_n)\n",
    "plt.xlabel(r'$log\\nu$ [Hz]')\n",
    "plt.ylabel(r'$log_{10}\\tilde{L}_\\nu$ [erg/sHz]')\n",
    "plt.loglog()\n",
    "plt.grid()\n",
    "plt.text(1e12, 1e24, r'$t/t_{fb}:$ ' + f'{days[fix_index]}\\n B: {check}')\n",
    "# plt.legend()\n",
    "# plt.savefig('Ltildan_m' + str(m) + '_snap' + str(fix))\n",
    "plt.show()\n",
    "ax.axvline(15, color = 'tab:orange')\n",
    "ax.axvline(17, color = 'tab:orange')\n",
    "ax.axvspan(15, 17, alpha=0.5, color = 'tab:orange')\n",
    "\n",
    "\n",
    "plt.figure()\n",
    "plt.plot(10**n_linear_in_log, 10**n_linear_in_log * lum_tilde_n)\n",
    "plt.xlabel(r'$log\\nu$ [Hz]')\n",
    "plt.ylabel(r'$log_{10}(\\nu\\tilde{L}_\\nu)$ [erg/s]')\n",
    "plt.loglog()\n",
    "plt.grid()\n",
    "# plt.savefig('n_Ltildan_m' + str(m) + '_snap' + str(fix))\n",
    "plt.show()"
   ]
  }
 ],
 "metadata": {
  "kernelspec": {
   "display_name": "tde_comparison",
   "language": "python",
   "name": "python3"
  },
  "language_info": {
   "codemirror_mode": {
    "name": "ipython",
    "version": 3
   },
   "file_extension": ".py",
   "mimetype": "text/x-python",
   "name": "python",
   "nbconvert_exporter": "python",
   "pygments_lexer": "ipython3",
   "version": "3.9.18"
  },
  "orig_nbformat": 4
 },
 "nbformat": 4,
 "nbformat_minor": 2
}
