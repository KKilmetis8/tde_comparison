{
 "cells": [
  {
   "cell_type": "code",
   "execution_count": null,
   "metadata": {},
   "outputs": [],
   "source": [
    "# Vanilla Imports\n",
    "import numpy as np\n",
    "import matplotlib.pyplot as plt\n",
    "from scipy.stats import gmean\n",
    "import src.Luminosity.red_tree as red\n",
    "# Custom Imports\n",
    "plt.rcParams['text.usetex'] = True\n",
    "plt.rcParams['figure.dpi'] = 300\n",
    "plt.rcParams['figure.figsize'] = [5 , 4]\n",
    "Rsol_to_cm = 6.957e10 # [cm]\n",
    "\n",
    "num_array = np.arange(2000, 9000, 1000)\n",
    "snap = 844\n",
    "m = 6"
   ]
  },
  {
   "cell_type": "code",
   "execution_count": null,
   "metadata": {},
   "outputs": [],
   "source": [
    "lum = np.zeros(len(num_array))\n",
    "rays_photo_mean = np.zeros(len(num_array))\n",
    "for i,num in enumerate(num_array):\n",
    "    print('num ', num)\n",
    "    lum[i], rays_photo = red.doer_of_thing(snap, m, num) \n",
    "    rays_photo_mean[i] = gmean(rays_photo)"
   ]
  },
  {
   "cell_type": "code",
   "execution_count": null,
   "metadata": {},
   "outputs": [],
   "source": [
    "with open('data/red/convergence_m'+ str(m) + '.txt', 'a') as file:\n",
    "    file.write('# num\\n') \n",
    "    file.write(' '.join(map(str, num_array)) + '\\n')\n",
    "    file.write('# Lum \\n') \n",
    "    file.write(' '.join(map(str, lum)) + '\\n')\n",
    "    file.write('# gmean R_{ph} \\n') \n",
    "    file.write(' '.join(map(str, rays_photo_mean)) + '\\n')\n",
    "    file.close() "
   ]
  },
  {
   "cell_type": "code",
   "execution_count": null,
   "metadata": {},
   "outputs": [],
   "source": [
    "data = np.loadtxt('data/red/convergence_m6.txt')\n",
    "num_plot = data[0]\n",
    "lum_plot = data[1]\n",
    "photo_plot = data[2]/Rsol_to_cm"
   ]
  },
  {
   "cell_type": "code",
   "execution_count": null,
   "metadata": {},
   "outputs": [],
   "source": [
    "img, ax = plt.subplots(figsize = (10,8))\n",
    "fig = ax.scatter(num_plot, lum_plot, c = photo_plot, vmin = 54, vmax = 57)\n",
    "cbar = img.colorbar(fig)\n",
    "cbar.set_label(r'$\\bar{R}_{ph} [R_\\odot]$', fontsize = 15)\n",
    "ax.set_ylabel('$\\log_{10}$ L [erg/s]', fontsize = 15)\n",
    "ax.set_xlabel('Num cells', fontsize = 15)\n",
    "ax.set_yscale('log')\n",
    "ax.set_ylim(5e42,2e43)\n",
    "plt.grid()\n",
    "plt.savefig('Final plot/convergence' + str(snap) + '.png')\n",
    "plt.show()"
   ]
  }
 ],
 "metadata": {
  "kernelspec": {
   "display_name": "tde_comparison",
   "language": "python",
   "name": "python3"
  },
  "language_info": {
   "codemirror_mode": {
    "name": "ipython",
    "version": 3
   },
   "file_extension": ".py",
   "mimetype": "text/x-python",
   "name": "python",
   "nbconvert_exporter": "python",
   "pygments_lexer": "ipython3",
   "version": "3.9.18"
  }
 },
 "nbformat": 4,
 "nbformat_minor": 2
}
