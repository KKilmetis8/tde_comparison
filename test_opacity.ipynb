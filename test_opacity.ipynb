{
 "cells": [
  {
   "cell_type": "code",
   "execution_count": 2,
   "metadata": {},
   "outputs": [
    {
     "ename": "ModuleNotFoundError",
     "evalue": "No module named 'src.Luminosity'",
     "output_type": "error",
     "traceback": [
      "\u001b[0;31m---------------------------------------------------------------------------\u001b[0m",
      "\u001b[0;31mModuleNotFoundError\u001b[0m                       Traceback (most recent call last)",
      "\u001b[1;32m/Users/paolamartire/tde_comparison/test_opacity.ipynb Cell 1\u001b[0m line \u001b[0;36m5\n\u001b[1;32m      <a href='vscode-notebook-cell:/Users/paolamartire/tde_comparison/test_opacity.ipynb#W0sZmlsZQ%3D%3D?line=2'>3</a>\u001b[0m \u001b[39mimport\u001b[39;00m \u001b[39mmatplotlib\u001b[39;00m\u001b[39m.\u001b[39;00m\u001b[39mpyplot\u001b[39;00m \u001b[39mas\u001b[39;00m \u001b[39mplt\u001b[39;00m\n\u001b[1;32m      <a href='vscode-notebook-cell:/Users/paolamartire/tde_comparison/test_opacity.ipynb#W0sZmlsZQ%3D%3D?line=3'>4</a>\u001b[0m \u001b[39mfrom\u001b[39;00m \u001b[39msrc\u001b[39;00m\u001b[39m.\u001b[39;00m\u001b[39mCalculators\u001b[39;00m\u001b[39m.\u001b[39;00m\u001b[39mray_cesare\u001b[39;00m \u001b[39mimport\u001b[39;00m ray_maker\n\u001b[0;32m----> <a href='vscode-notebook-cell:/Users/paolamartire/tde_comparison/test_opacity.ipynb#W0sZmlsZQ%3D%3D?line=4'>5</a>\u001b[0m \u001b[39mfrom\u001b[39;00m \u001b[39msrc\u001b[39;00m\u001b[39m.\u001b[39;00m\u001b[39mLuminosity\u001b[39;00m\u001b[39m.\u001b[39;00m\u001b[39mspecial_radii\u001b[39;00m \u001b[39mimport\u001b[39;00m get_thermr, get_photosphere, calc_photosphere\n\u001b[1;32m      <a href='vscode-notebook-cell:/Users/paolamartire/tde_comparison/test_opacity.ipynb#W0sZmlsZQ%3D%3D?line=5'>6</a>\u001b[0m \u001b[39mfrom\u001b[39;00m \u001b[39mastropy\u001b[39;00m\u001b[39m.\u001b[39;00m\u001b[39mcoordinates\u001b[39;00m \u001b[39mimport\u001b[39;00m cartesian_to_spherical\n\u001b[1;32m      <a href='vscode-notebook-cell:/Users/paolamartire/tde_comparison/test_opacity.ipynb#W0sZmlsZQ%3D%3D?line=6'>7</a>\u001b[0m \u001b[39mfrom\u001b[39;00m \u001b[39msrc\u001b[39;00m\u001b[39m.\u001b[39;00m\u001b[39mCalculators\u001b[39;00m\u001b[39m.\u001b[39;00m\u001b[39mlegion_of_casters\u001b[39;00m \u001b[39mimport\u001b[39;00m THROUPLE_S_CASTERS\n",
      "\u001b[0;31mModuleNotFoundError\u001b[0m: No module named 'src.Luminosity'"
     ]
    }
   ],
   "source": [
    "import numpy as np\n",
    "import healpy as hp\n",
    "import matplotlib.pyplot as plt\n",
    "from src.Calculators.ray_cesare import ray_maker\n",
    "from src.Luminosity.special_radii import get_thermr, get_photosphere, calc_photosphere\n",
    "from astropy.coordinates import cartesian_to_spherical\n",
    "from src.Calculators.legion_of_casters import THROUPLE_S_CASTERS\n",
    "import healpy as hp\n",
    "Msol_to_g = 1.989e33 # [g]\n",
    "Rsol_to_cm = 6.957e10 # [cm]\n",
    "den_converter = Msol_to_g / Rsol_to_cm**3\n",
    "X = 0.74\n",
    "Z = 0.02\n",
    "m = 6\n",
    "Rt = (10**m)**(1/3)\n",
    "# fix = 844"
   ]
  },
  {
   "cell_type": "code",
   "execution_count": null,
   "metadata": {},
   "outputs": [],
   "source": [
    "# def kramers(temp, rho):\n",
    "#     kr = 1.2e26 * Z * (1+X) * rho * temp**(-7/2)\n",
    "#     return kr\n",
    "\n",
    "def scattering():\n",
    "    kes = 0.2 * (1+X)\n",
    "    return kes\n",
    "\n",
    "def kramers_bound_free(temp, rho):\n",
    "    krb = 1.2e26 * Z * (1+X) * rho * temp**(-7/2)\n",
    "    return krb\n",
    "\n",
    "def kramers_free_free(temp, rho):\n",
    "    krf = 3.68 * 1e22 * (1-Z) * (1+X) * rho * temp**(-7/2)\n",
    "    return krf\n",
    "\n",
    "def kappa_ross_approx(temp, rho):\n",
    "    \"\"\"\"Matsumoto approximation for Rosseland mean opacity\"\"\"\n",
    "    km = 0.1 * Z\n",
    "    kh = 1.1e-25 * Z**(0.5) * rho**0.5 * temp**(7.7)\n",
    "    kk = kramers_bound_free(temp, rho)\n",
    "    kes = scattering()\n",
    "    kappa = km + kes + 1/(1/kh + 1/kk)\n",
    "    return kappa"
   ]
  },
  {
   "cell_type": "code",
   "execution_count": null,
   "metadata": {},
   "outputs": [],
   "source": [
    "temp_table_ln = np.loadtxt('src/Opacity/T.txt')\n",
    "temp_table = np.exp(temp_table_ln)\n",
    "den_table_ln = np.loadtxt('src/Opacity/rho.txt')\n",
    "den_table = np.exp(den_table_ln)\n",
    "ross_table_ln = np.loadtxt('src/Opacity/ross.txt')\n",
    "ross_table = np.exp(ross_table_ln)\n",
    "planck_table_ln = np.loadtxt('src/Opacity/planck.txt')\n",
    "planck_table = np.exp(planck_table_ln)\n",
    "scatter_table_ln = np.loadtxt('src/Opacity/scatter.txt')\n",
    "scatter_table = np.exp(scatter_table_ln)"
   ]
  },
  {
   "cell_type": "code",
   "execution_count": null,
   "metadata": {},
   "outputs": [],
   "source": [
    "index_array = [0,50,100,120]\n",
    "rho_test = np.zeros(len(index_array)) #[1e-13, 1e-9, 1e-7, 1e-3] \n",
    "# colors = ['orange', 'green', 'b', 'violet']\n",
    "for i, index in enumerate(index_array):\n",
    "    rho_test[i] = den_table[index]"
   ]
  },
  {
   "cell_type": "code",
   "execution_count": null,
   "metadata": {},
   "outputs": [],
   "source": [
    "\"\"\" Compute theorically K_R according to Matsumoto approximation\"\"\"\n",
    "kappa_matsu = [] #every line correspond to one density's value\n",
    "for i in range(len(rho_test)):\n",
    "    singlerho_ross = np.zeros(len(temp_table))\n",
    "    for j in range(len(temp_table)):\n",
    "        singlerho_ross[j] = kappa_ross_approx(temp_table[j], rho_test[i])\n",
    "    kappa_matsu.append(singlerho_ross)"
   ]
  },
  {
   "cell_type": "code",
   "execution_count": null,
   "metadata": {},
   "outputs": [],
   "source": [
    "\"\"\" Compute K_R according to Kramers' approximation \"\"\"\n",
    "kappa_kramer_boundfree = []\n",
    "for i in range(len(rho_test)):\n",
    "    singlerho_kram_boundfree = np.zeros(len(temp_table))\n",
    "    for j in range(len(temp_table)):\n",
    "        singlerho_kram_boundfree[j] = kramers_bound_free(temp_table[j], rho_test[i])\n",
    "    kappa_kramer_boundfree.append(singlerho_kram_boundfree)\n",
    "\n",
    "kappa_kramer_freefree = []\n",
    "for i in range(len(rho_test)):\n",
    "    singlerho_kram_freefree = np.zeros(len(temp_table))\n",
    "    for j in range(len(temp_table)):\n",
    "        singlerho_kram_freefree[j] = kramers_free_free(temp_table[j], rho_test[i])\n",
    "    kappa_kramer_freefree.append(singlerho_kram_freefree)"
   ]
  },
  {
   "cell_type": "code",
   "execution_count": null,
   "metadata": {},
   "outputs": [],
   "source": [
    "\"\"\" Compute K_R according to scattering \"\"\"\n",
    "theory_scattering = []\n",
    "for i in range(len(rho_test)):\n",
    "    singlerho_scatter = np.zeros(len(temp_table))\n",
    "    for j in range(len(temp_table)):\n",
    "        singlerho_scatter[j] = scattering()\n",
    "    theory_scattering.append(singlerho_scatter)"
   ]
  },
  {
   "cell_type": "code",
   "execution_count": null,
   "metadata": {},
   "outputs": [],
   "source": [
    "idx = 1\n",
    "plt.plot(temp_table,kappa_matsu[idx], label = 'Matsumoto22')\n",
    "plt.plot(temp_table,kappa_kramer_boundfree[idx], linestyle = 'dashed', label = 'Kramers bf')\n",
    "plt.plot(temp_table,kappa_kramer_freefree[idx], linestyle = 'dashed', label = 'Kramers ff')\n",
    "plt.plot(temp_table,theory_scattering[idx],  '-.', label = 'scatter')\n",
    "plt.text(1e4, 3e-8, r'$\\rho$ = %.1e g/cm$^2$' %rho_test[idx])\n",
    "plt.xlabel(r'$\\log_{10}$ T [K]')\n",
    "plt.ylabel(r'$\\log_{10} \\kappa$ [cm$^2$/g]')\n",
    "plt.loglog()\n",
    "plt.legend()\n",
    "plt.show()"
   ]
  },
  {
   "cell_type": "code",
   "execution_count": null,
   "metadata": {},
   "outputs": [],
   "source": [
    "\"\"\" Opacities from the table \"\"\"\n",
    "ross_selected = []\n",
    "planck_selected = []\n",
    "scatter_selected = []\n",
    "for i,index in enumerate(index_array):\n",
    "    # print(rho_test[i]-den_table[index])\n",
    "    kappar_selected = ross_table[:,index] / rho_test[i]\n",
    "    ross_selected.append(kappar_selected)\n",
    "\n",
    "    kappap_selected = planck_table[:,index] / rho_test[i]\n",
    "    planck_selected.append(kappap_selected)\n",
    "    \n",
    "    kappas_selected = scatter_table[:,index] / rho_test[i]\n",
    "    scatter_selected.append(kappas_selected)"
   ]
  },
  {
   "cell_type": "code",
   "execution_count": null,
   "metadata": {},
   "outputs": [],
   "source": [
    "\"\"\"Rosseland\"\"\"\n",
    "plt.plot(temp_table,ross_selected[idx], label = 'table', c ='orange')\n",
    "plt.plot(temp_table,kappa_matsu[idx], linestyle = 'dashed', label = 'Matsumoto22')\n",
    "plt.plot(temp_table,theory_scattering[idx], linestyle = 'dashed', c = 'r', label = 'scatter')\n",
    "plt.plot(temp_table,kappa_kramer_boundfree[idx], linestyle = 'dashed', c = 'b', label = 'Kramers bf')\n",
    "plt.plot(temp_table,kappa_kramer_freefree[idx], linestyle = 'dashed', c = 'deepskyblue', label = 'Kramers ff')\n",
    "plt.xlabel(r'$\\log_{10}$ T [K]')\n",
    "plt.ylabel(r'$\\log_{10} \\kappa_R$ [cm$^2$/g]')\n",
    "plt.text(2e5, 3e-7, r'$\\rho$ = %.1e g/cm$^2$' %rho_test[idx], fontsize = 8)\n",
    "plt.axvline(temp_table[-1], linestyle = '--', c = 'k')\n",
    "#plt.xlim(3e3,1e8)\n",
    "plt.loglog()\n",
    "plt.ylim(1e-8,4e5)\n",
    "plt.legend(fontsize = 8)\n",
    "plt.show()"
   ]
  },
  {
   "cell_type": "code",
   "execution_count": null,
   "metadata": {},
   "outputs": [],
   "source": [
    "\"\"\"Absorption\"\"\"\n",
    "plt.plot(temp_table,planck_selected[idx], label = 'table', c = 'orange')\n",
    "plt.plot(temp_table,kappa_matsu[idx], linestyle = 'dashed', label = 'Matsumoto22')\n",
    "plt.plot(temp_table,theory_scattering[idx], linestyle = 'dashed', c= 'r', label = 'scatter')\n",
    "plt.plot(temp_table,kappa_kramer_boundfree[idx], linestyle = 'dashed', c = 'b', label = 'Kramers bf')\n",
    "plt.plot(temp_table,kappa_kramer_freefree[idx], linestyle = 'dashed', c = 'deepskyblue', label = 'Kramers ff')\n",
    "plt.xlabel(r'$\\log_{10}$ T [K]')\n",
    "plt.ylabel(r'$\\log_{10} \\kappa_P$ [cm$^2$/g]')\n",
    "plt.text(5e3, 5e-5, r'$\\rho$ = %.1e g/cm$^2$' %rho_test[idx], fontsize = 9)\n",
    "plt.axvline(temp_table[-1], linestyle = '--', c = 'k')\n",
    "#plt.xlim(3e3,1e8)\n",
    "plt.loglog()\n",
    "#plt.ylim(1e-8,1e2)\n",
    "plt.legend( fontsize = 8)\n",
    "plt.show()"
   ]
  },
  {
   "cell_type": "code",
   "execution_count": null,
   "metadata": {},
   "outputs": [],
   "source": [
    "kappa_kramer = np.array(kappa_kramer_freefree)\n",
    "theory_scattering = np.array(theory_scattering)"
   ]
  },
  {
   "cell_type": "code",
   "execution_count": null,
   "metadata": {},
   "outputs": [],
   "source": [
    "theory_photo = kappa_kramer_freefree + theory_scattering\n",
    "theory_therm = np.sqrt(kappa_kramer_freefree * (kappa_kramer_freefree + theory_scattering))"
   ]
  },
  {
   "cell_type": "code",
   "execution_count": null,
   "metadata": {},
   "outputs": [],
   "source": [
    "planck_selected = np.array(planck_selected)\n",
    "scatter_selected = np.array(scatter_selected)"
   ]
  },
  {
   "cell_type": "code",
   "execution_count": null,
   "metadata": {},
   "outputs": [],
   "source": [
    "photo_selected = planck_selected + scatter_selected\n",
    "therm_selected = np.sqrt(planck_selected * (planck_selected + scatter_selected))"
   ]
  },
  {
   "cell_type": "code",
   "execution_count": null,
   "metadata": {},
   "outputs": [],
   "source": [
    "\"\"\"Photosphere\"\"\"\n",
    "plt.plot(temp_table,photo_selected[idx], label = 'table', c = 'orange')\n",
    "plt.plot(temp_table,theory_scattering[idx],  linestyle = 'dashed', label = 'scatter', c = 'r')\n",
    "plt.plot(temp_table,kappa_kramer_boundfree[idx], linestyle = 'dashed', c = 'b', label = 'Kramers bf')\n",
    "plt.plot(temp_table,kappa_kramer_freefree[idx], linestyle = 'dashed', c = 'deepskyblue', label = 'Kramers ff')\n",
    "plt.plot(temp_table,theory_photo[idx], linestyle = 'dashed', label = 's + K', c = 'darkorange')\n",
    "plt.xlabel(r'$\\log_{10}$ T [K]')\n",
    "plt.ylabel(r'$\\log_{10} (\\kappa_P+\\kappa_s)$ [cm$^2$/g]')\n",
    "plt.text(5e3, 3e-5, r'$\\rho$ = %.1e g/cm$^2$' %rho_test[idx], fontsize = 9)\n",
    "plt.axvline(temp_table[-1], linestyle = '--', c = 'k')\n",
    "#plt.xlim(3e3,1e8)\n",
    "plt.loglog()\n",
    "#plt.ylim(1e-8,1e2)\n",
    "plt.legend(fontsize = 8)\n",
    "plt.show()"
   ]
  },
  {
   "cell_type": "code",
   "execution_count": null,
   "metadata": {},
   "outputs": [],
   "source": [
    "\"\"\"Therm radius\"\"\"\n",
    "plt.plot(temp_table,therm_selected[idx], label = 'table', c = 'orange')\n",
    "#plt.plot(temp_table,kappa_matsu[idx], linestyle = 'dashed', label = 'Matsumoto22')\n",
    "plt.plot(temp_table,theory_scattering[idx],  linestyle = 'dashed', label = 'scatter', c = 'r')\n",
    "plt.plot(temp_table,kappa_kramer_boundfree[idx], linestyle = 'dashed', c = 'b', label = 'Kramers bf')\n",
    "plt.plot(temp_table,kappa_kramer_freefree[idx], linestyle = 'dashed', c = 'deepskyblue', label = 'Kramers ff')\n",
    "plt.plot(temp_table,theory_therm[idx], linestyle = 'dashed', label = 'theory', c = 'darkorange')\n",
    "plt.xlabel(r'$\\log_{10}$ T [K]')\n",
    "plt.ylabel(r'$\\log_{10} \\sqrt{\\kappa_P(\\kappa_P+\\kappa_s)}$ [cm$^2$/g]')\n",
    "plt.text(5e3, 1e-7, r'$\\rho$ = %.1e g/cm$^2$' %rho_test[idx], fontsize = 9)\n",
    "plt.axvline(temp_table[-1], linestyle = '--', c = 'k')\n",
    "#plt.xlim(3e3,1e8)\n",
    "plt.loglog()\n",
    "#plt.ylim(1e-8,1e2)\n",
    "plt.legend(fontsize = 8)\n",
    "plt.show()"
   ]
  },
  {
   "cell_type": "code",
   "execution_count": null,
   "metadata": {},
   "outputs": [],
   "source": [
    "\"\"\" Using our simulation. \"\"\"\n",
    "# X = np.load( str(m) + '/'  + fix + '/CMx_' + fix + '.npy')\n",
    "# Y = np.load( str(m) + '/'  + fix + '/CMy_' + fix + '.npy')\n",
    "# Z = np.load( str(m) + '/'  + fix + '/CMz_' + fix + '.npy')\n",
    "# Mass = np.load( str(m) + '/'  + fix + '/Mass_' + fix + '.npy')\n",
    "# T = np.load( str(m) + '/'  + fix + '/T_' + fix + '.npy')\n",
    "# Den = np.load( str(m) + '/'  + fix + '/Den_' + fix + '.npy')\n",
    "\n",
    "# Den *= den_converter \n",
    "# R, THETA, PHI = cartesian_to_spherical(X,Y,Z)\n",
    "# R = R.value \n",
    "# THETA = THETA.value\n",
    "# PHI = PHI.value"
   ]
  },
  {
   "cell_type": "code",
   "execution_count": null,
   "metadata": {},
   "outputs": [],
   "source": [
    "# thetas = np.zeros(192)\n",
    "# phis = np.zeros(192)\n",
    "# observers = []\n",
    "# NSIDE = 4\n",
    "# for i in range(0,192):\n",
    "#     thetas[i], phis[i] = hp.pix2ang(NSIDE, i)\n",
    "#     thetas[i] -= np.pi/2 # Enforce theta in -pi to pi\n",
    "    \n",
    "#     observers.append( (thetas[i], phis[i]) )"
   ]
  },
  {
   "cell_type": "code",
   "execution_count": null,
   "metadata": {},
   "outputs": [],
   "source": [
    "# index = 91\n",
    "# data_den = rays_den[index]\n",
    "# data_T =rays_T[index]\n",
    "# kappa = plot_kappa[index]\n",
    "# kram = 3.68 * 1e22 * (1 + 0.7389) * data_T**(-3.5) * data_den**2 #Kramers' opacity [cm^2/g]\n",
    "# scattering = (1+0.7389) * 0.2 * data_den \n",
    "# sum =  (kram + scattering) \n",
    "# plt.scatter(data_T,kappa, s = 8, c = 'k', label = 'Table')\n",
    "# plt.scatter(data_T, kram, s = 5, c = 'r', label = 'Kramers')\n",
    "# plt.scatter(data_T, scattering, s = 2, c = 'b', label = 'Scattering')\n",
    "# plt.scatter(data_T,sum, s = 1, c = 'orange', label = 'sum')\n",
    "# plt.legend()\n",
    "# plt.axvline(x=np.exp(17.87), c = 'k', linestyle = 'dashed')\n",
    "# plt.xlabel('T [K]')\n",
    "# plt.ylabel(r'$\\kappa\\rho$ [1/cm]')\n",
    "# plt.loglog()\n",
    "# plt.title(r'R$_{ph}$ in logspace')\n",
    "# plt.savefig('Final plot/photosphere_comparison_log.png')\n",
    "# plt.show()"
   ]
  }
 ],
 "metadata": {
  "kernelspec": {
   "display_name": "tde_comparison",
   "language": "python",
   "name": "python3"
  },
  "language_info": {
   "codemirror_mode": {
    "name": "ipython",
    "version": 3
   },
   "file_extension": ".py",
   "mimetype": "text/x-python",
   "name": "python",
   "nbconvert_exporter": "python",
   "pygments_lexer": "ipython3",
   "version": "3.9.18"
  }
 },
 "nbformat": 4,
 "nbformat_minor": 2
}
