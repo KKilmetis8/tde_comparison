{
 "cells": [
  {
   "cell_type": "code",
   "execution_count": 1,
   "metadata": {},
   "outputs": [],
   "source": [
    "import numpy as np\n",
    "import numba\n",
    "import healpy as hp\n",
    "import colorcet\n",
    "from astropy.coordinates import cartesian_to_spherical, spherical_to_cartesian\n",
    "from src.Calculators.legion_of_casters import THROUPLE_S_CASTERS\n",
    "import matplotlib.pyplot as plt\n",
    "import matplotlib.colors as colors\n",
    "\n",
    "NSIDE = 4\n",
    "G = 6.6743e-11 # SI\n",
    "Msol = 1.98847e30 # kg\n",
    "Rsol = 6.957e8 # m\n",
    "t = np.sqrt(Rsol**3 / (Msol*G )) # Follows from G = 1\n",
    "c = 3e8 * t/Rsol # simulator units. Need these for the PW potential\n",
    "c_cgs = 3e10 # [cm/s]\n",
    "Msol_to_g = 1.989e33 # [g]\n",
    "Rsol_to_cm = 6.957e10 # [cm]\n",
    "den_converter = Msol_to_g / Rsol_to_cm**3\n",
    "en_den_converter = Msol_to_g / (Rsol_to_cm  * t**2 ) # Energy Density converter"
   ]
  },
  {
   "cell_type": "code",
   "execution_count": 2,
   "metadata": {},
   "outputs": [],
   "source": [
    "def ray_maker(fix, m):\n",
    "    fix = str(fix)\n",
    "    Mbh = 10**m \n",
    "    Rt =  Mbh**(1/3) # Msol = 1, Rsol = 1\n",
    "    \n",
    "    # Import\n",
    "    X = np.load( str(m) + '/'  + fix + '/CMx_' + fix + '.npy')\n",
    "    Y = np.load( str(m) + '/'  + fix + '/CMy_' + fix + '.npy')\n",
    "    Z = np.load( str(m) + '/'  + fix + '/CMz_' + fix + '.npy')\n",
    "    Mass = np.load( str(m) + '/'  + fix + '/Mass_' + fix + '.npy')\n",
    "    T = np.load( str(m) + '/'  + fix + '/T_' + fix + '.npy')\n",
    "    Den = np.load( str(m) + '/'  + fix + '/Den_' + fix + '.npy')\n",
    "    Rad = np.load( str(m) + '/'  +fix + '/Rad_' + fix + '.npy')\n",
    "\n",
    "    # Convert Energy / Mass to Energy Density in CGS\n",
    "    Rad *= Den \n",
    "    Rad *= en_den_converter\n",
    "    Den *= den_converter \n",
    "    # Convert to spherical\n",
    "    R, THETA, PHI = cartesian_to_spherical(X,Y,Z)\n",
    "    R = R.value \n",
    "    THETA = THETA.value\n",
    "    PHI = PHI.value\n",
    "\n",
    "     # Ensure that the regular grid cells are smaller than simulation cells\n",
    "    start = 2 * Rt\n",
    "    stop = 10_000 #400 * Rt\n",
    "    if m == 6:\n",
    "        num = 750 + 1 # about the average of cell radius\n",
    "    if m == 4:\n",
    "        num = 500 #350\n",
    "    radii = np.linspace(start, stop, num) #simulator units\n",
    "    \n",
    "    # Find observers with Healpix\n",
    "    thetas = np.zeros(192)\n",
    "    phis = np.zeros(192)\n",
    "    observers = []\n",
    "    for i in range(0,192):\n",
    "        thetas[i], phis[i] = hp.pix2ang(NSIDE, i)\n",
    "        thetas[i] -= np.pi/2 # Enforce theta in -pi to pi\n",
    "        \n",
    "        observers.append( (thetas[i], phis[i]) )\n",
    "    \n",
    "    #%% Cast\n",
    "    T_casted, Den_casted, Rad_casted = THROUPLE_S_CASTERS(radii, R, \n",
    "                                                       observers, THETA, PHI,\n",
    "                                                       T, Den, Rad,\n",
    "                                                       weights = Mass, \n",
    "                                                       avg = False)\n",
    "    # Clean\n",
    "    T_casted = np.nan_to_num(T_casted, neginf = 0)\n",
    "    Den_casted = np.nan_to_num(Den_casted, neginf = 0)\n",
    "    Rad_casted = np.nan_to_num(Rad_casted, neginf = 0)\n",
    "    \n",
    "    # DROP THE LAST ONE\n",
    "    T_casted = np.delete(T_casted, -1, axis = 0)\n",
    "    Den_casted = np.delete(Den_casted, -1, axis = 0)\n",
    "    Rad_casted = np.delete(Rad_casted, -1, axis = 0)\n",
    "    radii = np.delete(radii, -1, axis = 0)\n",
    "\n",
    "    #thetas += np.pi/2\n",
    "\n",
    "    return T_casted, Den_casted, Rad_casted, radii, thetas, phis"
   ]
  },
  {
   "cell_type": "code",
   "execution_count": 3,
   "metadata": {},
   "outputs": [
    {
     "name": "stderr",
     "output_type": "stream",
     "text": [
      "/Users/paolamartire/miniconda3/envs/tde_comparison/lib/python3.9/site-packages/numba/core/ir_utils.py:2149: NumbaPendingDeprecationWarning: \u001b[1m\n",
      "Encountered the use of a type that is scheduled for deprecation: type 'reflected list' found for argument 'observers' of function 'THROUPLE_S_CASTERS'.\n",
      "\n",
      "For more information visit https://numba.readthedocs.io/en/stable/reference/deprecation.html#deprecation-of-reflection-for-list-and-set-types\n",
      "\u001b[1m\n",
      "File \"src/Calculators/legion_of_casters.py\", line 12:\u001b[0m\n",
      "\u001b[1m@numba.njit\n",
      "\u001b[1mdef THROUPLE_S_CASTERS(radii, R,\n",
      "\u001b[0m\u001b[1m^\u001b[0m\u001b[0m\n",
      "\u001b[0m\n",
      "  warnings.warn(NumbaPendingDeprecationWarning(msg, loc=loc))\n"
     ]
    }
   ],
   "source": [
    "T_casted, Den_casted, Rad_casted, radii, thetas, phis = ray_maker(844,6)"
   ]
  },
  {
   "cell_type": "code",
   "execution_count": 4,
   "metadata": {},
   "outputs": [],
   "source": [
    "den_cast = np.zeros(len(radii))\n",
    "for i in range(len(den_cast)):\n",
    "    for j in range(len(Den_casted[i])):\n",
    "        den_cast[i] += Den_casted[i][j]\n"
   ]
  },
  {
   "cell_type": "code",
   "execution_count": null,
   "metadata": {},
   "outputs": [],
   "source": []
  },
  {
   "cell_type": "code",
   "execution_count": 11,
   "metadata": {},
   "outputs": [],
   "source": [
    "radius_fix = np.ones(len(thetas)) * 500\n",
    "radii_list = np.array([radii]*192)\n",
    "theta_ray = []\n",
    "phi_ray = []\n",
    "for i in range(len(thetas)):\n",
    "    theta_arr = np.array([thetas[i]]* len(radii))\n",
    "    phi_arr = np.array([phis[i]]* len(radii))\n",
    "    theta_ray.append(theta_arr)\n",
    "    phi_ray.append(phi_arr)\n",
    "x, y, z = spherical_to_cartesian(radii_list, theta_ray, phi_ray)\n",
    "x = x.value\n",
    "y = y.value\n"
   ]
  },
  {
   "cell_type": "code",
   "execution_count": 19,
   "metadata": {},
   "outputs": [
    {
     "name": "stdout",
     "output_type": "stream",
     "text": [
      "(750, 192)\n"
     ]
    }
   ],
   "source": [
    "print(np.shape(Den_casted))"
   ]
  },
  {
   "cell_type": "code",
   "execution_count": 22,
   "metadata": {},
   "outputs": [
    {
     "name": "stderr",
     "output_type": "stream",
     "text": [
      "/var/folders/s6/3n46ppqn3jx7765w8c686c740000gn/T/ipykernel_9425/2077897143.py:5: UserWarning: The input coordinates to pcolormesh are interpreted as cell centers, but are not monotonically increasing or decreasing. This may lead to incorrectly calculated cell edges, in which case, please supply explicit cell edges to pcolormesh.\n",
      "  img = ax.pcolormesh(x/apocenter, y/apocenter, Den_casted.T, cmap='cet_fire', vmin = 0, vmax = 6) # vmin = 15, vmax = 25)\n"
     ]
    },
    {
     "data": {
      "image/png": "[encoded data removed]",
      "text/plain": [
       "<Figure size 640x480 with 2 Axes>"
      ]
     },
     "metadata": {},
     "output_type": "display_data"
    }
   ],
   "source": [
    "Mbh = 10**6\n",
    "Rt =  Mbh**(1/3) #tidal radius\n",
    "apocenter = 2 * Rt * Mbh**(1/3)\n",
    "fig, ax = plt.subplots()\n",
    "img = ax.pcolormesh(x/apocenter, y/apocenter, Den_casted.T, cmap='cet_fire', vmin = 0, vmax = 6) # vmin = 15, vmax = 25)\n",
    "# ax.set_ylim(-0.1, 1.5)\n",
    "# ax.set_xlim(-1, 1)\n",
    "fig.colorbar(img)\n",
    "plt.show()\n"
   ]
  }
 ],
 "metadata": {
  "kernelspec": {
   "display_name": "tde_comparison",
   "language": "python",
   "name": "python3"
  },
  "language_info": {
   "codemirror_mode": {
    "name": "ipython",
    "version": 3
   },
   "file_extension": ".py",
   "mimetype": "text/x-python",
   "name": "python",
   "nbconvert_exporter": "python",
   "pygments_lexer": "ipython3",
   "version": "3.9.18"
  }
 },
 "nbformat": 4,
 "nbformat_minor": 2
}
